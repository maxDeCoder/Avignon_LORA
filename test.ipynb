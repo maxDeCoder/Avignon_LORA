{
 "cells": [
  {
   "cell_type": "code",
   "execution_count": 1,
   "metadata": {},
   "outputs": [],
   "source": [
    "from random import randint\n",
    "import time\n",
    "import serial"
   ]
  },
  {
   "cell_type": "code",
   "execution_count": 2,
   "metadata": {},
   "outputs": [],
   "source": [
    "\n",
    "def generate_packets(n, payload_length):\n",
    "    def generate_payload(payload_length):\n",
    "        if not payload_length == -1:\n",
    "            return \"\".join([str(randint(0, 9)) for _ in range(payload_length)])\n",
    "        else:\n",
    "            return \"\".join([str(randint(0, 9)) for _ in range(randint(1, 256))])\n",
    "    \n",
    "    time_of_generation = int(time.time())\n",
    "\n",
    "    return [\"SOT\", f\"TIME={time_of_generation}\"] + [generate_payload(payload_length) for _ in range(n)] + [\"EOT\"], time_of_generation"
   ]
  },
  {
   "cell_type": "code",
   "execution_count": 6,
   "metadata": {},
   "outputs": [
    {
     "data": {
      "text/plain": [
       "['SOT',\n",
       " 'TIME=1688028234',\n",
       " '3353736248808944',\n",
       " '46510690803966608696044869994812500390746954966537982331673423393625044904329696449477156414129190963371524798002601953107852495303952934289305510363794',\n",
       " '9428537877105425149525219097730533855387675160595044521041718294132564405985353791482',\n",
       " '680605692249771593417265660000806681606925368300404828669536772608992032389246857133066209572509230041654558793181818856058031424914929385',\n",
       " '01896444822640903767877121206561945925720562968356048103452479129',\n",
       " '84044962725531347807954490723481153196469724668635863925916180112907349368994406546587730347340267449846341388262590673879377731342758726004733',\n",
       " '78658915997523534067655207158417635540756803745652579272794734583229792803635829589613930161616903991685995641808268460718771061035391983338664709392809269183031269147268954253600181112204876408642021711813896824334122357869598458902685418',\n",
       " '46',\n",
       " '47157587484527852897718877089976667593522714567763483344322523726440792412604324860651637512527690068846925019054952126057138557765969637679589898052614653623115886737513701596515123912832',\n",
       " '19350934840416694858244755666371623817327209120873578750434524988735230983363330866243674335114911851840020501119969380407829774252836505923882453022774163274742460891495640628522',\n",
       " 'EOT']"
      ]
     },
     "execution_count": 6,
     "metadata": {},
     "output_type": "execute_result"
    }
   ],
   "source": [
    "packets, _time = generate_packets(10, -1)\n",
    "packets"
   ]
  },
  {
   "cell_type": "code",
   "execution_count": 15,
   "metadata": {},
   "outputs": [
    {
     "data": {
      "text/plain": [
       "['88292336556108042423',\n",
       " '04841572614870643747',\n",
       " '85414612702080514651',\n",
       " '13812308276386273097',\n",
       " '37796786377626528286',\n",
       " '05145011903638194450',\n",
       " '83232632020613866791',\n",
       " '54072909255583982317',\n",
       " '29322947387331296658',\n",
       " '77281424710304264148',\n",
       " 'N=10',\n",
       " 'TIME=1687865300',\n",
       " 'SOT']"
      ]
     },
     "execution_count": 15,
     "metadata": {},
     "output_type": "execute_result"
    }
   ],
   "source": []
  },
  {
   "cell_type": "code",
   "execution_count": 3,
   "metadata": {},
   "outputs": [],
   "source": [
    "device = serial.Serial(\"COM8\", 115200)"
   ]
  },
  {
   "cell_type": "code",
   "execution_count": 6,
   "metadata": {},
   "outputs": [],
   "source": [
    "def AT(device, command: str, timeout=10):\n",
    "    start_time = time.time()\n",
    "    device.write((command + \"\\n\").encode())\n",
    "    response = \"\"\n",
    "    \n",
    "    while \"OK\" not in response:\n",
    "        response = device.read_all().decode()\n",
    "        if \"error\" in response.lower():\n",
    "            return \"ERROR\"\n",
    "        if ((time.time()-start_time) > 10):\n",
    "            return \"TIMEOUT\"\n",
    "\n",
    "    return \"OK\""
   ]
  },
  {
   "cell_type": "code",
   "execution_count": 7,
   "metadata": {},
   "outputs": [
    {
     "data": {
      "text/plain": [
       "'OK'"
      ]
     },
     "execution_count": 7,
     "metadata": {},
     "output_type": "execute_result"
    }
   ],
   "source": [
    "AT(device, \"AT+SEND=eeeeeeeeeeeeeeeeeeeeeeeeeeeeeeeeeeeeeeeeeeeeee\")"
   ]
  },
  {
   "cell_type": "code",
   "execution_count": 30,
   "metadata": {},
   "outputs": [],
   "source": [
    "device.close()"
   ]
  },
  {
   "cell_type": "code",
   "execution_count": 22,
   "metadata": {},
   "outputs": [],
   "source": [
    "response = device.read_all().decode()\n",
    "response = response"
   ]
  },
  {
   "cell_type": "code",
   "execution_count": 23,
   "metadata": {},
   "outputs": [
    {
     "name": "stdout",
     "output_type": "stream",
     "text": [
      "\n",
      "OK\n",
      "\n"
     ]
    }
   ],
   "source": [
    "print(response)"
   ]
  },
  {
   "cell_type": "code",
   "execution_count": 7,
   "metadata": {},
   "outputs": [
    {
     "data": {
      "text/plain": [
       "(['SOT',\n",
       "  'TIME=1687858314',\n",
       "  'N=20',\n",
       "  '58794212204733981822755614892043880546219848844134',\n",
       "  '46609072618046046503058708483669819573823467641805',\n",
       "  '32156215713129421322961068321141297825260145971305',\n",
       "  '80692009792339714662940070365763878195161541255529',\n",
       "  '52132999191248321528891275547947969192065278213606',\n",
       "  '54567904453354802691207119872740443306199904053723',\n",
       "  '69428612785598401173295661955904464692339432974171',\n",
       "  '09138828256554621645819042305431436624780240048714',\n",
       "  '80416483252948873289022615006805155240853673629269',\n",
       "  '00866059036345392666733643638218979859425854016780',\n",
       "  '89962196945617718284829088711013515514795161351159',\n",
       "  '15270129955764006093465982087683348804704129387344',\n",
       "  '08370822917288838704446611764352014060218429819714',\n",
       "  '99395507144807057599815525651587366383146335694240',\n",
       "  '26780442640489062223684111354813162620359888890794',\n",
       "  '86948932663008928401683961398988774027228095149591',\n",
       "  '84415234726640733954836007854537725637015766443291',\n",
       "  '27275810997437691277542045791273736029573267653339',\n",
       "  '87374958194389656145326325580976288386774271131266',\n",
       "  '04221655726991137624326380968342393781531544738348',\n",
       "  'EOT'],\n",
       " 1687858314)"
      ]
     },
     "execution_count": 7,
     "metadata": {},
     "output_type": "execute_result"
    }
   ],
   "source": [
    "generate_packets(20, 50)"
   ]
  },
  {
   "cell_type": "code",
   "execution_count": null,
   "metadata": {},
   "outputs": [],
   "source": []
  }
 ],
 "metadata": {
  "kernelspec": {
   "display_name": "Python 3",
   "language": "python",
   "name": "python3"
  },
  "language_info": {
   "codemirror_mode": {
    "name": "ipython",
    "version": 3
   },
   "file_extension": ".py",
   "mimetype": "text/x-python",
   "name": "python",
   "nbconvert_exporter": "python",
   "pygments_lexer": "ipython3",
   "version": "3.10.0"
  },
  "orig_nbformat": 4
 },
 "nbformat": 4,
 "nbformat_minor": 2
}
