{
 "cells": [
  {
   "cell_type": "code",
   "execution_count": null,
   "metadata": {},
   "outputs": [],
   "source": [
    "from random import randint\n",
    "import time\n",
    "import serial"
   ]
  },
  {
   "cell_type": "code",
   "execution_count": null,
   "metadata": {},
   "outputs": [],
   "source": [
    "\n",
    "def generate_packets(n, payload_length):\n",
    "    def generate_payload(payload_length):\n",
    "        if not payload_length == -1:\n",
    "            return \"\".join([str(randint(0, 9)) for _ in range(payload_length)])\n",
    "        else:\n",
    "            return \"\".join([str(randint(0, 9)) for _ in range(randint(1, 256))])\n",
    "    \n",
    "    time_of_generation = int(time.time())\n",
    "\n",
    "    return [\"SOT\", f\"TIME={time_of_generation}\"] + [generate_payload(payload_length) for _ in range(n)] + [\"EOT\"], time_of_generation"
   ]
  },
  {
   "cell_type": "code",
   "execution_count": null,
   "metadata": {},
   "outputs": [],
   "source": [
    "packets, _time = generate_packets(10, -1)\n",
    "packets"
   ]
  },
  {
   "cell_type": "code",
   "execution_count": null,
   "metadata": {},
   "outputs": [],
   "source": []
  },
  {
   "cell_type": "code",
   "execution_count": null,
   "metadata": {},
   "outputs": [],
   "source": [
    "device = serial.Serial(\"COM8\", 115200)"
   ]
  },
  {
   "cell_type": "code",
   "execution_count": null,
   "metadata": {},
   "outputs": [],
   "source": [
    "def AT(device, command: str, timeout=10):\n",
    "    start_time = time.time()\n",
    "    device.write((command + \"\\n\").encode())\n",
    "    response = \"\"\n",
    "    \n",
    "    while \"OK\" not in response:\n",
    "        response = device.read_all().decode()\n",
    "        if \"error\" in response.lower():\n",
    "            return \"ERROR\"\n",
    "        if ((time.time()-start_time) > 10):\n",
    "            return \"TIMEOUT\"\n",
    "\n",
    "    return \"OK\""
   ]
  },
  {
   "cell_type": "code",
   "execution_count": null,
   "metadata": {},
   "outputs": [],
   "source": [
    "AT(device, \"AT+SEND=eeeeeeeeeeeeeeeeeeeeeeeeeeeeeeeeeeeeeeeeeeeeee\")"
   ]
  },
  {
   "cell_type": "code",
   "execution_count": null,
   "metadata": {},
   "outputs": [],
   "source": [
    "device.close()"
   ]
  },
  {
   "cell_type": "code",
   "execution_count": null,
   "metadata": {},
   "outputs": [],
   "source": [
    "response = device.read_all().decode()\n",
    "response = response"
   ]
  },
  {
   "cell_type": "code",
   "execution_count": null,
   "metadata": {},
   "outputs": [],
   "source": [
    "print(response)"
   ]
  },
  {
   "cell_type": "code",
   "execution_count": null,
   "metadata": {},
   "outputs": [],
   "source": [
    "generate_packets(20, 50)"
   ]
  },
  {
   "cell_type": "code",
   "execution_count": null,
   "metadata": {},
   "outputs": [],
   "source": [
    "import pandas as pd\n",
    "import os"
   ]
  },
  {
   "cell_type": "code",
   "execution_count": null,
   "metadata": {},
   "outputs": [],
   "source": [
    "l = os.listdir(\"./data/experiment datarates/\")\n",
    "\n",
    "df = pd.DataFrame()\n",
    "for item in l:\n",
    "    df[f\"{item.split('.')[0]}\"] = pd.read_csv(f\"./data/experiment datarates/{item}\")[\"AoI\"]\n",
    "df.index.name=\"Time\"\n",
    "df.index = df.index * 30"
   ]
  },
  {
   "cell_type": "code",
   "execution_count": null,
   "metadata": {},
   "outputs": [],
   "source": [
    "l = [1,2,5,10,15,20,27]\n",
    "df = pd.DataFrame()\n",
    "for item in l:\n",
    "    df[f\"{item} dbm\"] = pd.read_csv(f\"./data/experiment txp/{item} db.csv\")[\"AoI\"]\n",
    "df.index.name=\"Time\"\n",
    "df.index = df.index * 30"
   ]
  },
  {
   "cell_type": "code",
   "execution_count": null,
   "metadata": {},
   "outputs": [],
   "source": [
    "l = [2,8,16,32,64,128,200,256]\n",
    "\n",
    "df = pd.DataFrame()\n",
    "for item in l:\n",
    "    df[f\"{item} bytes\"] = pd.read_csv(f\"./data/experiment payload/{item} byte.csv\")[\"AoI\"]\n",
    "df.index.name=\"Time\"\n",
    "df.index = df.index * 30"
   ]
  },
  {
   "cell_type": "code",
   "execution_count": null,
   "metadata": {},
   "outputs": [],
   "source": [
    "import numpy as np\n",
    "from plotly import express as px\n",
    "import matplotlib.pyplot as plt\n",
    "from sklearn.linear_model import LinearRegression"
   ]
  },
  {
   "cell_type": "code",
   "execution_count": null,
   "metadata": {},
   "outputs": [],
   "source": [
    "avgs, stds = np.mean(df.to_numpy(), axis=0).astype(int), np.std(df.to_numpy(),axis=0).astype(int)\n",
    "aggs = pd.DataFrame({\"mean\": avgs, \"std\": stds}, index=df.columns)\n",
    "display(aggs)\n",
    "ax = aggs.plot.bar()\n",
    "\n",
    "ax.set_xticklabels(aggs.index.map(lambda x: x.split()[0]), rotation = 0)\n",
    "ax.set_xlabel(\"Trasmission power (dbm)\")\n",
    "ax.set_ylabel(\"AoI (sec)\")\n",
    "plt.show()\n",
    "\n",
    "ax = df.plot.line()\n",
    "ax.set_ylabel(\"AoI (sec)\")\n",
    "plt.show()"
   ]
  },
  {
   "cell_type": "code",
   "execution_count": 37,
   "metadata": {},
   "outputs": [
    {
     "data": {
      "text/html": [
       "<div>\n",
       "<style scoped>\n",
       "    .dataframe tbody tr th:only-of-type {\n",
       "        vertical-align: middle;\n",
       "    }\n",
       "\n",
       "    .dataframe tbody tr th {\n",
       "        vertical-align: top;\n",
       "    }\n",
       "\n",
       "    .dataframe thead th {\n",
       "        text-align: right;\n",
       "    }\n",
       "</style>\n",
       "<table border=\"1\" class=\"dataframe\">\n",
       "  <thead>\n",
       "    <tr style=\"text-align: right;\">\n",
       "      <th>Payload size</th>\n",
       "      <th>64</th>\n",
       "      <th>80</th>\n",
       "      <th>96</th>\n",
       "      <th>111</th>\n",
       "      <th>128</th>\n",
       "      <th>141</th>\n",
       "      <th>160</th>\n",
       "      <th>171</th>\n",
       "      <th>192</th>\n",
       "    </tr>\n",
       "    <tr>\n",
       "      <th>Tx Power</th>\n",
       "      <th></th>\n",
       "      <th></th>\n",
       "      <th></th>\n",
       "      <th></th>\n",
       "      <th></th>\n",
       "      <th></th>\n",
       "      <th></th>\n",
       "      <th></th>\n",
       "      <th></th>\n",
       "    </tr>\n",
       "  </thead>\n",
       "  <tbody>\n",
       "    <tr>\n",
       "      <th>10</th>\n",
       "      <td>9.833333</td>\n",
       "      <td>10.100000</td>\n",
       "      <td>9.966667</td>\n",
       "      <td>10.533333</td>\n",
       "      <td>10.366667</td>\n",
       "      <td>11.000000</td>\n",
       "      <td>11.100000</td>\n",
       "      <td>11.233333</td>\n",
       "      <td>11.600000</td>\n",
       "    </tr>\n",
       "    <tr>\n",
       "      <th>15</th>\n",
       "      <td>10.633333</td>\n",
       "      <td>10.666667</td>\n",
       "      <td>10.700000</td>\n",
       "      <td>10.633333</td>\n",
       "      <td>10.633333</td>\n",
       "      <td>9.966667</td>\n",
       "      <td>10.166667</td>\n",
       "      <td>11.600000</td>\n",
       "      <td>11.366667</td>\n",
       "    </tr>\n",
       "    <tr>\n",
       "      <th>20</th>\n",
       "      <td>9.966667</td>\n",
       "      <td>9.900000</td>\n",
       "      <td>10.166667</td>\n",
       "      <td>11.166667</td>\n",
       "      <td>10.500000</td>\n",
       "      <td>11.133333</td>\n",
       "      <td>10.900000</td>\n",
       "      <td>11.100000</td>\n",
       "      <td>11.466667</td>\n",
       "    </tr>\n",
       "    <tr>\n",
       "      <th>27</th>\n",
       "      <td>8.733333</td>\n",
       "      <td>9.933333</td>\n",
       "      <td>10.433333</td>\n",
       "      <td>10.666667</td>\n",
       "      <td>10.400000</td>\n",
       "      <td>11.300000</td>\n",
       "      <td>11.400000</td>\n",
       "      <td>10.266667</td>\n",
       "      <td>12.600000</td>\n",
       "    </tr>\n",
       "  </tbody>\n",
       "</table>\n",
       "</div>"
      ],
      "text/plain": [
       "Payload size        64         80         96         111        128   \n",
       "Tx Power                                                              \n",
       "10             9.833333  10.100000   9.966667  10.533333  10.366667  \\\n",
       "15            10.633333  10.666667  10.700000  10.633333  10.633333   \n",
       "20             9.966667   9.900000  10.166667  11.166667  10.500000   \n",
       "27             8.733333   9.933333  10.433333  10.666667  10.400000   \n",
       "\n",
       "Payload size        141        160        171        192  \n",
       "Tx Power                                                  \n",
       "10            11.000000  11.100000  11.233333  11.600000  \n",
       "15             9.966667  10.166667  11.600000  11.366667  \n",
       "20            11.133333  10.900000  11.100000  11.466667  \n",
       "27            11.300000  11.400000  10.266667  12.600000  "
      ]
     },
     "execution_count": 37,
     "metadata": {},
     "output_type": "execute_result"
    }
   ],
   "source": [
    "import plotly.graph_objects as go\n",
    "import pandas as pd\n",
    "import matplotlib.pyplot as plt\n",
    "import numpy as np\n",
    "# Read data from a csv\n",
    "df = pd.read_csv('./data/experiment one packet/run 3.csv')\n",
    "df[\"Payload size\"] = df[\"Payload size\"] + 11\n",
    "z = df.pivot_table(\"Average AOI\", index=\"Tx Power\", columns=\"Payload size\")\n",
    "z"
   ]
  },
  {
   "cell_type": "code",
   "execution_count": 63,
   "metadata": {},
   "outputs": [],
   "source": [
    "from itertools import product\n",
    "fix = \"Payload size\"\n",
    "fix_value = df[fix].unique()\n",
    "x = \"Tx Power\"\n",
    "\n",
    "plot_break = len(fix_value)\n",
    "\n",
    "\n",
    "ncols, nrows = 3,3"
   ]
  },
  {
   "cell_type": "code",
   "execution_count": 113,
   "metadata": {},
   "outputs": [
    {
     "data": {
      "text/plain": [
       "<matplotlib.legend.Legend at 0x1ff66299420>"
      ]
     },
     "execution_count": 113,
     "metadata": {},
     "output_type": "execute_result"
    },
    {
     "data": {
      "image/png": "[encoded data removed]",
      "text/plain": [
       "<Figure size 500x500 with 1 Axes>"
      ]
     },
     "metadata": {},
     "output_type": "display_data"
    }
   ],
   "source": [
    "#define subplot layout\n",
    "plt.rcParams['figure.figsize'] = [5,5]\n",
    "pv = df.pivot(columns=\"Payload size\", index=\"Tx Power\", values=\"Average AOI\")\n",
    "pv[[64, 128, 171, 192]].plot(kind='bar')\n",
    "legends = pv.columns.map(lambda x: f\"{x} bytes\")\n",
    "plt.ylabel(\"Average AOI (sec)\")\n",
    "plt.xlabel(\"Tx Power (dbm)\")\n",
    "plt.xticks(rotation=0)\n",
    "plt.legend(legends, loc='upper left', ncols=1)"
   ]
  },
  {
   "cell_type": "code",
   "execution_count": null,
   "metadata": {},
   "outputs": [],
   "source": [
    "fix = \"Payload size\"\n",
    "fix_value = 64\n",
    "x = \"Tx Power\"\n",
    "\n",
    "k = df[df[fix] == fix_value][[x, \"Average AOI\"]]\n",
    "k.set_index(x, inplace=True)\n",
    "k.plot.bar()\n",
    "plt.title(f\"Avg AOI for {fix}={fix_value}\")"
   ]
  },
  {
   "cell_type": "code",
   "execution_count": null,
   "metadata": {},
   "outputs": [],
   "source": [
    "plot = df.groupby(\"Tx Power\")[\"Average AOI\"].mean().to_frame().plot.bar()\n",
    "plt.ylabel(\"Average AOI (secs)\")\n",
    "plt.xlabel(\"Tx Power (dbm)\")\n",
    "plt.xticks(rotation=45)\n",
    "plt.show()"
   ]
  },
  {
   "cell_type": "code",
   "execution_count": null,
   "metadata": {},
   "outputs": [],
   "source": [
    "df.groupby(\"Payload size\")[\"Average AOI\"].mean().to_frame()"
   ]
  },
  {
   "cell_type": "code",
   "execution_count": null,
   "metadata": {},
   "outputs": [],
   "source": [
    "plot = df.groupby(\"Payload size\")[\"Average AOI\"].mean().to_frame().plot.bar()\n",
    "plt.ylabel(\"Average AOI (secs)\")\n",
    "plt.xlabel(\"Payload size (bytes)\")\n",
    "plt.xticks(rotation=45)\n",
    "plt.show()"
   ]
  },
  {
   "cell_type": "code",
   "execution_count": null,
   "metadata": {},
   "outputs": [],
   "source": [
    "import plotly.graph_objects as go\n",
    "import pandas as pd\n",
    "import numpy as np\n",
    "# Read data from a csv\n",
    "df = pd.read_csv('./data/experiment one packet/run 3.csv')\n",
    "df[\"Payload size\"] = df[\"Payload size\"] + 11\n",
    "z = df.pivot_table(\"Average AOI\", index=\"Tx Power\", columns=\"Payload size\")\n",
    "z\n",
    "\n",
    "import matplotlib.pyplot as plt\n",
    "\n",
    "plt.rcParams['figure.figsize'] = [8,8]\n",
    "plot1, plot2 = np.meshgrid(z.columns, z.index)\n",
    "axes = plt.axes(projection='3d')\n",
    "axes.plot_surface(plot1, plot2, z, cmap=\"viridis\", edgecolor='none', rstride=1, cstride=1, linewidth=2)\n",
    "axes.set_xlabel('Payload size (bytes)')\n",
    "axes.set_ylabel('Tx Power (dbm)')\n",
    "axes.set_zlabel('Average AOI (sec)')\n",
    "axes.set_title(\"Average AOI\")\n",
    "axes.yaxis.set_major_formatter('{x}')\n",
    "\n",
    "plt.show()"
   ]
  },
  {
   "cell_type": "code",
   "execution_count": null,
   "metadata": {},
   "outputs": [],
   "source": []
  },
  {
   "cell_type": "code",
   "execution_count": null,
   "metadata": {},
   "outputs": [],
   "source": []
  }
 ],
 "metadata": {
  "kernelspec": {
   "display_name": "Python 3",
   "language": "python",
   "name": "python3"
  },
  "language_info": {
   "codemirror_mode": {
    "name": "ipython",
    "version": 3
   },
   "file_extension": ".py",
   "mimetype": "text/x-python",
   "name": "python",
   "nbconvert_exporter": "python",
   "pygments_lexer": "ipython3",
   "version": "3.10.0"
  },
  "orig_nbformat": 4
 },
 "nbformat": 4,
 "nbformat_minor": 2
}
